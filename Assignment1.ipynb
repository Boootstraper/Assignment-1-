{
 "cells": [
  {
   "cell_type": "code",
   "execution_count": 1,
   "id": "cf581fba-cb2f-4e4c-86cb-d1779971e91d",
   "metadata": {},
   "outputs": [
    {
     "data": {
      "text/plain": [
       "str"
      ]
     },
     "execution_count": 1,
     "metadata": {},
     "output_type": "execute_result"
    }
   ],
   "source": [
    "## Assignment 1\n",
    "## Q1\n",
    "str=\"mohit\"\n",
    "type(str)"
   ]
  },
  {
   "cell_type": "code",
   "execution_count": 3,
   "id": "3ca38d1e-1e37-4ba7-9e42-b21bf13b8e01",
   "metadata": {},
   "outputs": [
    {
     "data": {
      "text/plain": [
       "list"
      ]
     },
     "execution_count": 3,
     "metadata": {},
     "output_type": "execute_result"
    }
   ],
   "source": [
    "lst=[\"mohit\",\"lohit\",23,45,\"shashi\"]\n",
    "type(lst)"
   ]
  },
  {
   "cell_type": "code",
   "execution_count": 4,
   "id": "dec34f3b-e234-4915-8a28-4d1323bc4dfb",
   "metadata": {},
   "outputs": [
    {
     "data": {
      "text/plain": [
       "float"
      ]
     },
     "execution_count": 4,
     "metadata": {},
     "output_type": "execute_result"
    }
   ],
   "source": [
    "flt= 10.2\n",
    "type(flt)"
   ]
  },
  {
   "cell_type": "code",
   "execution_count": null,
   "id": "114bdd06-5459-4a5f-9e67-5a86d68b05f4",
   "metadata": {},
   "outputs": [],
   "source": [
    "lst=(\"mohit\",\"lohit\",23,45,\"shashi\")\n",
    "type(lst)"
   ]
  },
  {
   "cell_type": "code",
   "execution_count": 6,
   "id": "7093edaa-0e40-4004-82b7-879eb665f4a1",
   "metadata": {},
   "outputs": [
    {
     "data": {
      "text/plain": [
       "str"
      ]
     },
     "execution_count": 6,
     "metadata": {},
     "output_type": "execute_result"
    }
   ],
   "source": [
    "##Q2\n",
    "var1=''\n",
    "type(var1)"
   ]
  },
  {
   "cell_type": "code",
   "execution_count": 7,
   "id": "9da31784-77d7-47ab-8a84-b5b61be9f8c2",
   "metadata": {},
   "outputs": [
    {
     "data": {
      "text/plain": [
       "str"
      ]
     },
     "execution_count": 7,
     "metadata": {},
     "output_type": "execute_result"
    }
   ],
   "source": [
    "var2 = '[DS,ML,PYTHON]'\n",
    "type(var2)"
   ]
  },
  {
   "cell_type": "code",
   "execution_count": 9,
   "id": "da5f842f-b8ef-48a0-91fb-c5cecb011c64",
   "metadata": {},
   "outputs": [
    {
     "data": {
      "text/plain": [
       "list"
      ]
     },
     "execution_count": 9,
     "metadata": {},
     "output_type": "execute_result"
    }
   ],
   "source": [
    "var3 = ['DS','ML','PYTHON']\n",
    "type(var3)"
   ]
  },
  {
   "cell_type": "code",
   "execution_count": 10,
   "id": "7ac545b9-43e8-42f5-940b-4e8e10eccf63",
   "metadata": {},
   "outputs": [
    {
     "data": {
      "text/plain": [
       "float"
      ]
     },
     "execution_count": 10,
     "metadata": {},
     "output_type": "execute_result"
    }
   ],
   "source": [
    "var4 = 1.\n",
    "type(var4)"
   ]
  },
  {
   "cell_type": "code",
   "execution_count": 12,
   "id": "9e67175d-88ea-45c9-af96-e5f0eff131e5",
   "metadata": {},
   "outputs": [
    {
     "name": "stdout",
     "output_type": "stream",
     "text": [
      "0.6666666666666666\n"
     ]
    }
   ],
   "source": [
    "## Q3\n",
    "## (i)/Division is used to devide one number from another\n",
    "a=4\n",
    "b=6\n",
    "c=a/b\n",
    "print(c)"
   ]
  },
  {
   "cell_type": "code",
   "execution_count": 13,
   "id": "ccce7666-9008-46ee-90e7-ad434b26e489",
   "metadata": {},
   "outputs": [
    {
     "name": "stdout",
     "output_type": "stream",
     "text": [
      "1\n"
     ]
    }
   ],
   "source": [
    "## (ii)% it is used to show the reminder in a devision\n",
    "a=6\n",
    "b=5\n",
    "c=a%b\n",
    "print(c)"
   ]
  },
  {
   "cell_type": "code",
   "execution_count": 17,
   "id": "3e476920-6a86-477c-b07c-b0618834546d",
   "metadata": {},
   "outputs": [
    {
     "name": "stdout",
     "output_type": "stream",
     "text": [
      "2\n"
     ]
    }
   ],
   "source": [
    "## (iii) // is used to donate the the no. of times the numerator is devisible by denominator\n",
    "a=14\n",
    "b=6\n",
    "c=a//b\n",
    "print(c)"
   ]
  },
  {
   "cell_type": "code",
   "execution_count": 24,
   "id": "13e56d93-0d35-40a6-9477-4c946b5f6737",
   "metadata": {},
   "outputs": [
    {
     "name": "stdout",
     "output_type": "stream",
     "text": [
      "27\n"
     ]
    }
   ],
   "source": [
    "## (iv) ** it shows the power function\n",
    "a=3\n",
    "b=3\n",
    "c=a**b\n",
    "print(c)"
   ]
  },
  {
   "cell_type": "code",
   "execution_count": 31,
   "id": "94f93a19-0cdf-4f6c-ab3f-f0da18863fd7",
   "metadata": {},
   "outputs": [
    {
     "name": "stdout",
     "output_type": "stream",
     "text": [
      "mohit <class 'str'>\n",
      "lohit <class 'str'>\n",
      "23 <class 'int'>\n",
      "45 <class 'int'>\n",
      "33.4 <class 'float'>\n",
      "sid <class 'str'>\n",
      "66 <class 'int'>\n",
      "55 <class 'int'>\n",
      "44.8 <class 'float'>\n",
      "True <class 'bool'>\n"
     ]
    }
   ],
   "source": [
    "## Q4 \n",
    "lst=[\"mohit\",\"lohit\",23,45,33.4,\"sid\",66,55,44.8,True]\n",
    "for x in lst:\n",
    "    print(x,type(x))\n",
    "    "
   ]
  },
  {
   "cell_type": "code",
   "execution_count": 39,
   "id": "b0b9dbc1-3ebf-455f-9998-edf0a5b17b10",
   "metadata": {},
   "outputs": [
    {
     "name": "stdin",
     "output_type": "stream",
     "text": [
      "Please enter number 1.  15\n",
      "Please enter number 1.  3\n"
     ]
    },
    {
     "name": "stdout",
     "output_type": "stream",
     "text": [
      "Number 1 is divisible b number 2 and it is 5 times divisible \n"
     ]
    }
   ],
   "source": [
    "## Q5\n",
    "a=int(input(\"Please enter number 1. \"))\n",
    "b=int(input(\"Please enter number 1. \"))\n",
    "count = 0\n",
    "while a>=b:\n",
    "    a=a-b\n",
    "    count+=1\n",
    "if a==0:\n",
    "\n",
    "    print(\"Number 1 is divisible b number 2 and it is {} times divisible \".format(count))\n",
    "else:  \n",
    "    print(\"number 1 is not fully divisible by number 2 \")"
   ]
  },
  {
   "cell_type": "code",
   "execution_count": 40,
   "id": "0a20f48c-89f9-4157-aa33-f841a5c152bf",
   "metadata": {},
   "outputs": [
    {
     "name": "stdout",
     "output_type": "stream",
     "text": [
      "1 is not divisible by 3\n",
      "2 is not divisible by 3\n",
      "3 is divisible by 3\n",
      "4 is not divisible by 3\n",
      "5 is not divisible by 3\n",
      "6 is divisible by 3\n",
      "7 is not divisible by 3\n",
      "8 is not divisible by 3\n",
      "9 is divisible by 3\n",
      "10 is not divisible by 3\n",
      "11 is not divisible by 3\n",
      "12 is divisible by 3\n",
      "13 is not divisible by 3\n",
      "14 is not divisible by 3\n",
      "15 is divisible by 3\n",
      "16 is not divisible by 3\n",
      "17 is not divisible by 3\n",
      "18 is divisible by 3\n",
      "19 is not divisible by 3\n",
      "20 is not divisible by 3\n",
      "21 is divisible by 3\n",
      "22 is not divisible by 3\n",
      "23 is not divisible by 3\n",
      "24 is divisible by 3\n",
      "25 is not divisible by 3\n"
     ]
    }
   ],
   "source": [
    "## Q6\n",
    "lst=list(range(1,26))\n",
    "for x in lst:\n",
    "    if x%3==0:\n",
    "        print( \"{} is divisible by 3\".format(x))\n",
    "    else:\n",
    "        print(\"{} is not divisible by 3\".format(x))"
   ]
  },
  {
   "cell_type": "code",
   "execution_count": 43,
   "id": "ea01fd50-594e-4238-aa28-0436127666e2",
   "metadata": {},
   "outputs": [
    {
     "name": "stdout",
     "output_type": "stream",
     "text": [
      "[1, 2, 3, 4, 5]\n",
      "[6, 2, 3, 4, 5]\n"
     ]
    },
    {
     "ename": "AttributeError",
     "evalue": "'tuple' object has no attribute 'append'",
     "output_type": "error",
     "traceback": [
      "\u001b[0;31m---------------------------------------------------------------------------\u001b[0m",
      "\u001b[0;31mAttributeError\u001b[0m                            Traceback (most recent call last)",
      "Cell \u001b[0;32mIn[43], line 10\u001b[0m\n\u001b[1;32m      8\u001b[0m \u001b[38;5;66;03m## on the other hand immutable data types are those who cannot be changed once they have been created like strings and tuple\u001b[39;00m\n\u001b[1;32m      9\u001b[0m x\u001b[38;5;241m=\u001b[39m(\u001b[38;5;124m\"\u001b[39m\u001b[38;5;124mram\u001b[39m\u001b[38;5;124m\"\u001b[39m,\u001b[38;5;124m\"\u001b[39m\u001b[38;5;124mshyam\u001b[39m\u001b[38;5;124m\"\u001b[39m,\u001b[38;5;241m44\u001b[39m,\u001b[38;5;241m55\u001b[39m)\n\u001b[0;32m---> 10\u001b[0m \u001b[43mx\u001b[49m\u001b[38;5;241;43m.\u001b[39;49m\u001b[43mappend\u001b[49m(\u001b[38;5;241m66\u001b[39m)\n\u001b[1;32m     11\u001b[0m \u001b[38;5;28mprint\u001b[39m(x)\n",
      "\u001b[0;31mAttributeError\u001b[0m: 'tuple' object has no attribute 'append'"
     ]
    }
   ],
   "source": [
    "##7\n",
    "##Mutable data types are those who can be changed once they have been created like lists, dictionaries and sets\n",
    "x = [1, 2, 3, 4]\n",
    "x.append(5)\n",
    "print(x)  \n",
    "x[0] = 6\n",
    "print(x)  \n",
    "## on the other hand immutable data types are those who cannot be changed once they have been created like strings and tuple\n",
    "x=(\"ram\",\"shyam\",44,55)\n",
    "x.append(66)\n",
    "print(x)\n"
   ]
  },
  {
   "cell_type": "code",
   "execution_count": null,
   "id": "dd68d984-82e4-4f9d-9cbe-868a4e0da816",
   "metadata": {},
   "outputs": [],
   "source": []
  }
 ],
 "metadata": {
  "kernelspec": {
   "display_name": "Python 3 (ipykernel)",
   "language": "python",
   "name": "python3"
  },
  "language_info": {
   "codemirror_mode": {
    "name": "ipython",
    "version": 3
   },
   "file_extension": ".py",
   "mimetype": "text/x-python",
   "name": "python",
   "nbconvert_exporter": "python",
   "pygments_lexer": "ipython3",
   "version": "3.10.8"
  }
 },
 "nbformat": 4,
 "nbformat_minor": 5
}
